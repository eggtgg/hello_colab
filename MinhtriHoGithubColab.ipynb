{
  "nbformat": 4,
  "nbformat_minor": 0,
  "metadata": {
    "colab": {
      "name": "MinhtriHoGithubColab.ipynb",
      "provenance": [],
      "authorship_tag": "ABX9TyP+DZapFJ7qu4/31F5Bub83",
      "include_colab_link": true
    },
    "kernelspec": {
      "name": "python3",
      "display_name": "Python 3"
    }
  },
  "cells": [
    {
      "cell_type": "markdown",
      "metadata": {
        "id": "view-in-github",
        "colab_type": "text"
      },
      "source": [
        "<a href=\"https://colab.research.google.com/github/eggtgg/hello_colab/blob/main/MinhtriHoGithubColab.ipynb\" target=\"_parent\"><img src=\"https://colab.research.google.com/assets/colab-badge.svg\" alt=\"Open In Colab\"/></a>"
      ]
    },
    {
      "cell_type": "markdown",
      "metadata": {
        "id": "8j_rPsb8PV_q"
      },
      "source": [
        "**Đây là chương trình đầu tiên by Minh Trí Hồ**"
      ]
    },
    {
      "cell_type": "code",
      "metadata": {
        "id": "VfCvOzj4O-ds",
        "outputId": "2881d629-2c1a-45f5-8fe6-e129353fc39e",
        "colab": {
          "base_uri": "https://localhost:8080/",
          "height": 33
        }
      },
      "source": [
        "print(\"Hello Github & Colab\")"
      ],
      "execution_count": null,
      "outputs": [
        {
          "output_type": "stream",
          "text": [
            "Hello Github & Colab\n"
          ],
          "name": "stdout"
        }
      ]
    }
  ]
}